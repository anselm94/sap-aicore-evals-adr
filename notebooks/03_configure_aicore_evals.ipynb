{
 "cells": [
  {
   "cell_type": "markdown",
   "id": "25cb1a7d",
   "metadata": {},
   "source": [
    "# 3. Configure SAP AI Core & Launchpad for Evaluation\n",
    "\n",
    "### 🔀 Workflow\n",
    "\n",
    "1. Create **Object Store Secret**:\n",
    "\n",
    "   For AI Core to access the S3 bucket\n",
    "\n",
    "2. Create an **Artifact**:\n",
    "\n",
    "   Facade for the S3 bucket to be mapped and accessible inside AI Core\n",
    "\n",
    "3. GenAI Evaluation **Scenario**:\n",
    "\n",
    "   Retrieve the Scenario ID for `genai-evaluation` which is pre-configured in the AI Core\n",
    "\n",
    "4. GenAI Evaluation **Executable**:\n",
    "\n",
    "   Retrieve the Executable ID for `genai-evaluation` which is pre-configured in the AI Core\n",
    "\n",
    "5. Orchestration **Deployment** URL:\n",
    "\n",
    "   Retrieve the Orchestration URL for the AI Core instance\n",
    "\n",
    "6. Create **Configuration**:\n",
    "\n",
    "   Create a configuration for GenAI evaluation with artifact, scenario, executable & orchestration URL\n",
    "\n",
    "7. Create **Execution**:\n",
    "\n",
    "   Create an execution for the GenAI evaluation with the configuration created in the previous step\n"
   ]
  },
  {
   "cell_type": "code",
   "execution_count": null,
   "id": "ebd60e08",
   "metadata": {},
   "outputs": [],
   "source": [
    "from ai_core_sdk.ai_core_v2_client import AICoreV2Client\n",
    "from dotenv import load_dotenv\n",
    "import os\n",
    "\n",
    "load_dotenv()\n",
    "\n",
    "client_aicore = AICoreV2Client(\n",
    "    base_url=os.getenv(\"AICORE_API_BASE\") + \"/v2\",\n",
    "    auth_url=os.getenv(\"AICORE_AUTH_URL\") + \"/oauth/token\",\n",
    "    client_id=os.getenv(\"AICORE_CLIENT_ID\"),\n",
    "    client_secret=os.getenv(\"AICORE_CLIENT_SECRET\"),\n",
    "    resource_group=\"default\",\n",
    ")"
   ]
  },
  {
   "cell_type": "markdown",
   "id": "34741892",
   "metadata": {},
   "source": [
    "## Step 1: Create Object Store Secret\n",
    "\n",
    "SAP Help Docs - https://help.sap.com/docs/sap-ai-core/sap-ai-core-service-guide/register-your-object-store-secret\n"
   ]
  },
  {
   "cell_type": "code",
   "execution_count": 84,
   "id": "159bbf54",
   "metadata": {},
   "outputs": [],
   "source": [
    "object_store_secret_name = \"ade-v2\""
   ]
  },
  {
   "cell_type": "code",
   "execution_count": null,
   "id": "26740f56",
   "metadata": {},
   "outputs": [
    {
     "name": "stdout",
     "output_type": "stream",
     "text": [
      "Object store secret 'Message: secret has been created' created successfully.\n"
     ]
    }
   ],
   "source": [
    "# Create an object store secret for the S3 bucket\n",
    "\n",
    "secret_create = client_aicore.object_store_secrets.create(\n",
    "    name=object_store_secret_name,\n",
    "    type=\"S3\",\n",
    "    bucket=os.getenv(\"AWS_S3_BUCKET_NAME\"),\n",
    "    endpoint=os.getenv(\"AWS_S3_ENDPOINT\"),\n",
    "    path_prefix=\"ade-v2\",\n",
    "    region=os.getenv(\"AWS_REGION\"),\n",
    "    data={\n",
    "        \"AWS_ACCESS_KEY_ID\": os.getenv(\"AWS_ACCESS_KEY_ID\"),\n",
    "        \"AWS_SECRET_ACCESS_KEY\": os.getenv(\"AWS_SECRET_ACCESS_KEY\"),\n",
    "    },\n",
    ")\n",
    "\n",
    "print(f\"Object store secret '{secret_create}' created successfully.\")"
   ]
  },
  {
   "cell_type": "code",
   "execution_count": null,
   "id": "2354924b",
   "metadata": {},
   "outputs": [
    {
     "name": "stdout",
     "output_type": "stream",
     "text": [
      "ade-v2\n"
     ]
    }
   ],
   "source": [
    "# Get the object store secret to verify creation\n",
    "\n",
    "secret_get = client_aicore.object_store_secrets.get(name=object_store_secret_name)\n",
    "print(f\"{secret_get.name}\")"
   ]
  },
  {
   "cell_type": "markdown",
   "id": "e50eda88",
   "metadata": {},
   "source": [
    "## Step 2: Identify the GenAI Evaluation Scenario\n",
    "\n",
    "SAP AI Core preships with the `genai-evaluations` scenario which is used to evaluate the GenAI models\n"
   ]
  },
  {
   "cell_type": "code",
   "execution_count": 77,
   "id": "6fe21443",
   "metadata": {},
   "outputs": [
    {
     "name": "stdout",
     "output_type": "stream",
     "text": [
      "Scenario: genai-evaluations - genai-evaluations\n"
     ]
    }
   ],
   "source": [
    "scenarioid_genai_eval = \"genai-evaluations\"\n",
    "\n",
    "scenario_get = client_aicore.scenario.get(scenario_id=scenarioid_genai_eval)\n",
    "\n",
    "print(f\"Scenario: {scenario_get.id} - {scenario_get.name}\")"
   ]
  },
  {
   "cell_type": "markdown",
   "id": "53358a7e",
   "metadata": {},
   "source": [
    "## Step 3: Get the GenAI Evaluation Executable\n",
    "\n",
    "SAP AI Core preships with the `genai-evaluations` executable inside the `genai-evaluations` scenario which is used to evaluate the GenAI models"
   ]
  },
  {
   "cell_type": "code",
   "execution_count": 78,
   "id": "fb96bcf2",
   "metadata": {},
   "outputs": [
    {
     "name": "stdout",
     "output_type": "stream",
     "text": [
      "Executable Get: genai-evaluations - genai-evaluations\n"
     ]
    }
   ],
   "source": [
    "executableid_genai_eval = \"genai-evaluations\"\n",
    "\n",
    "executable_get = client_aicore.executable.get(\n",
    "    scenario_id=scenarioid_genai_eval, executable_id=executableid_genai_eval\n",
    ")\n",
    "print(f\"Executable Get: {executable_get.id} - {executable_get.name}\")"
   ]
  },
  {
   "cell_type": "markdown",
   "id": "e8540ac7",
   "metadata": {},
   "source": [
    "## Step 4: Map the Object Store as an Artifact\n"
   ]
  },
  {
   "cell_type": "code",
   "execution_count": 80,
   "id": "3fd72ffa",
   "metadata": {},
   "outputs": [],
   "source": [
    "artifactname_genai_eval = \"ade-v2-eval-3\""
   ]
  },
  {
   "cell_type": "code",
   "execution_count": null,
   "id": "ee2c7814",
   "metadata": {},
   "outputs": [],
   "source": [
    "from ai_api_client_sdk.models.artifact import Artifact\n",
    "\n",
    "artifact_create = client_aicore.artifact.create(\n",
    "    kind=Artifact.Kind.OTHER,  # \"Other Artifact\" section\n",
    "    name=artifactname_genai_eval,\n",
    "    description=\"ADE v2 Evaluation Artifact\",\n",
    "    scenario_id=scenarioid_genai_eval,\n",
    "    url=\"ai://ade-v2/evals\",\n",
    ")\n",
    "\n",
    "print(f\"Artifact: {artifact_create}\")"
   ]
  },
  {
   "cell_type": "code",
   "execution_count": 65,
   "id": "52d72d2e",
   "metadata": {},
   "outputs": [
    {
     "name": "stdout",
     "output_type": "stream",
     "text": [
      "Artifact Get: 31a15492-f6a5-4885-b251-d9a26e33ebc9\n"
     ]
    }
   ],
   "source": [
    "artifact_get = client_aicore.artifact.query(\n",
    "    scenario_id=scenarioid_genai_eval,\n",
    "    kind=Artifact.Kind.OTHER,\n",
    ")\n",
    "\n",
    "artifact_id = next(\n",
    "    (a.id for a in artifact_get.resources if a.name == artifactname_genai_eval), None\n",
    ")\n",
    "print(f\"Artifact Get: {artifact_id}\")"
   ]
  },
  {
   "cell_type": "markdown",
   "id": "59b3fcdd",
   "metadata": {},
   "source": [
    "## Step 5: Get the Orchestration Deployment URL\n",
    "\n",
    "SAP AI Core preships with an Orchestration deployment named `defaultOrchestrationConfig` which provides harmonized API access to all LLM models available in the AI Core instance. This deployment is used to execute the GenAI evaluation. "
   ]
  },
  {
   "cell_type": "code",
   "execution_count": 59,
   "id": "0a51b6da",
   "metadata": {},
   "outputs": [
    {
     "name": "stdout",
     "output_type": "stream",
     "text": [
      "Deployment Get: Resources: [{Deployment id: d79f9a643173f554}, {Deployment id: d54d3a65125a8b27}], Count: 2\n",
      "Deployment ID: d79f9a643173f554\n",
      "Deployment URL: https://api.ai.internalprod.eu-central-1.aws.ml.hana.ondemand.com/v2/inference/deployments/d79f9a643173f554\n"
     ]
    }
   ],
   "source": [
    "deployment_query = client_aicore.deployment.query(\n",
    "    scenario_id=\"orchestration\", executable_ids=[\"orchestration\"]\n",
    ")\n",
    "\n",
    "print(f\"Deployment Get: {deployment_query}\")\n",
    "\n",
    "# find deployment by configuration name - 'defaultOrchestrationConfig'\n",
    "deployment_id, deployment_url = next(\n",
    "    (\n",
    "        (d.id, d.deployment_url)\n",
    "        for d in deployment_query.resources\n",
    "        if d.configuration_name == \"defaultOrchestrationConfig\"\n",
    "    ),\n",
    "    (None, None),\n",
    ")\n",
    "print(f\"Deployment ID: {deployment_id}\")\n",
    "print(f\"Deployment URL: {deployment_url}\")"
   ]
  },
  {
   "cell_type": "markdown",
   "id": "3b79137c",
   "metadata": {},
   "source": [
    "## Step 6: Create Configuration\n",
    "\n",
    "Create a Configuration in AI Core, from which an execution is scheduled. The configuration has the executable & scenario mapped to `genai-evaluations`, and hence this executable would be used for the subsequent execution."
   ]
  },
  {
   "cell_type": "code",
   "execution_count": 66,
   "id": "ec569abe",
   "metadata": {},
   "outputs": [],
   "source": [
    "configname_genai_eval = \"config-genai-aicore-evals-ade-v2-2\""
   ]
  },
  {
   "cell_type": "code",
   "execution_count": null,
   "id": "f53a44e0",
   "metadata": {},
   "outputs": [
    {
     "name": "stdout",
     "output_type": "stream",
     "text": [
      "Configuration Create: Id: 2c522e49-80c1-4b3a-80cc-480476e14e09, Message: Configuration created\n"
     ]
    }
   ],
   "source": [
    "import json\n",
    "from ai_api_client_sdk.models.input_artifact_binding import InputArtifactBinding\n",
    "from ai_api_client_sdk.models.parameter_binding import ParameterBinding\n",
    "\n",
    "# directory which contains the orchestration configs for various llms - see `evals/runs/*.json` files\n",
    "dir_runs = \"runs\"\n",
    "\n",
    "# directory which contains the test dataset - see `evals/testdata/ade-v2-300.json` file\n",
    "dir_testdata = json.dumps({\"path\": \"testdata/ade-v2-300.json\", \"type\": \"json\"})\n",
    "\n",
    "# list of metrics to be used for evaluation\n",
    "metrics_list = \"bert_score,bleu\"\n",
    "\n",
    "# variable mapping for the metrics and the test dataset JSON\n",
    "variable_mapping = json.dumps({\"all_metrics/reference\": \"data/golden-truth\"})\n",
    "\n",
    "configuration_create = client_aicore.configuration.create(\n",
    "    name=configname_genai_eval,\n",
    "    scenario_id=scenarioid_genai_eval,\n",
    "    executable_id=executableid_genai_eval,\n",
    "    input_artifact_bindings=[\n",
    "        InputArtifactBinding(key=\"rootFolder\", artifact_id=artifact_id)\n",
    "    ],\n",
    "    parameter_bindings=[\n",
    "        ParameterBinding(key=\"runs\", value=dir_runs),\n",
    "        ParameterBinding(key=\"testDataset\", value=dir_testdata),\n",
    "        ParameterBinding(key=\"metrics\", value=metrics_list),\n",
    "        ParameterBinding(key=\"variableMapping\", value=variable_mapping),\n",
    "        ParameterBinding(\n",
    "            key=\"orchestrationDeploymentURL\", value=deployment_url\n",
    "        ),\n",
    "    ],\n",
    ")\n",
    "\n",
    "print(f\"Configuration Create: {configuration_create}\")"
   ]
  },
  {
   "cell_type": "code",
   "execution_count": null,
   "id": "83ab7bfb",
   "metadata": {},
   "outputs": [
    {
     "name": "stdout",
     "output_type": "stream",
     "text": [
      "Configuration ID: 2c522e49-80c1-4b3a-80cc-480476e14e09\n"
     ]
    }
   ],
   "source": [
    "# Query the configuration to get the ID\n",
    "\n",
    "configuration_query = client_aicore.configuration.query(\n",
    "    scenario_id=scenarioid_genai_eval,\n",
    "    executable_ids=[executableid_genai_eval],\n",
    ")\n",
    "\n",
    "configid_genai_eval = next(\n",
    "    (c.id for c in configuration_query.resources if c.name == configname_genai_eval),\n",
    "    None,\n",
    ")\n",
    "print(f\"Configuration ID: {configid_genai_eval}\")"
   ]
  },
  {
   "cell_type": "markdown",
   "id": "deeb9ee8",
   "metadata": {},
   "source": [
    "## Step 7: Schedule an Execution\n",
    "\n",
    "Using the above configuration, schedule an execution to run GenAI evaluations. It may take some time, depending on the number of models and the size of the test dataset. \n",
    "\n",
    "The execution will run in the background, and you can monitor its status using the AI Core API or the SAP AI Core Launchpad."
   ]
  },
  {
   "cell_type": "code",
   "execution_count": 90,
   "id": "e5b2a25f",
   "metadata": {},
   "outputs": [
    {
     "name": "stdout",
     "output_type": "stream",
     "text": [
      "Execution Create: Id: e8938839ddbe242f, Message: Execution scheduled\n"
     ]
    }
   ],
   "source": [
    "execution_create = client_aicore.execution.create(configuration_id=configid_genai_eval)\n",
    "\n",
    "print(f\"Execution Create: {execution_create}\")"
   ]
  },
  {
   "cell_type": "markdown",
   "id": "3c4991b2",
   "metadata": {},
   "source": [
    "You can monitor the execution status in the 'Executions' tab of 'ML Operations' sections of the SAP AI Core Launchpad or by using the AI Core API to query the execution status.\n",
    "\n",
    "![Monitoring AI Core execution status](../docs/images/execution-monitoring.png)"
   ]
  },
  {
   "cell_type": "markdown",
   "id": "23cc462a",
   "metadata": {},
   "source": [
    "## Step 8: Observe the Results\n",
    "\n",
    "Go to 'Evaluations' tab of 'Generative AI Hub' section of the SAP AI Core Launchpad to observe the results of the GenAI evaluation.\n",
    "![Observing GenAI evaluation summary](../docs/images/evaluation-summary.png)\n",
    "![Observing GenAI evaluation comparison results](../docs/images/evaluation-compare.png)\n"
   ]
  }
 ],
 "metadata": {
  "kernelspec": {
   "display_name": ".venv",
   "language": "python",
   "name": "python3"
  },
  "language_info": {
   "codemirror_mode": {
    "name": "ipython",
    "version": 3
   },
   "file_extension": ".py",
   "mimetype": "text/x-python",
   "name": "python",
   "nbconvert_exporter": "python",
   "pygments_lexer": "ipython3",
   "version": "3.12.8"
  }
 },
 "nbformat": 4,
 "nbformat_minor": 5
}
