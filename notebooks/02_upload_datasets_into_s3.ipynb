{
 "cells": [
  {
   "cell_type": "markdown",
   "id": "f2558292",
   "metadata": {},
   "source": [
    "# 2. Upload Datasets into S3 Bucket\n",
    "\n",
    "Following steps will help you upload the `ADE-Corpus-V2` dataset prepared in [`01_prepare_ade_dataset.ipynb`](./01_prepare_ade_dataset.ipynb) into an S3 bucket.\n"
   ]
  },
  {
   "cell_type": "markdown",
   "id": "c905ae3d",
   "metadata": {},
   "source": [
    "## Step 1: Create BTP Object Storage Instance\n",
    "\n",
    "1. Create an [Object Store](https://discovery-center.cloud.sap/serviceCatalog/object-store) instance in SAP BTP.\n",
    "\n",
    "2. Create a default service key for the created Object Store instance.\n",
    "\n",
    "   ![Create Service Key for SAP BTP Object Store instance](../docs/images/btp-s3-credentials.png)\n",
    "\n",
    "3. Clone the [`.env.example`](../.env.example) file to `.env`\n",
    "\n",
    "   ```bash\n",
    "   cp .env.example .env\n",
    "   ```\n",
    "\n",
    "4. Fill in the values with the credentials in [`./.env`](../.env) from the service key created in the previous step.\n"
   ]
  },
  {
   "cell_type": "markdown",
   "id": "961acdfd",
   "metadata": {},
   "source": [
    "## Step 2: Upload Dataset to S3 Bucket"
   ]
  },
  {
   "cell_type": "code",
   "execution_count": 1,
   "id": "7d9f9a69",
   "metadata": {},
   "outputs": [
    {
     "data": {
      "text/plain": [
       "True"
      ]
     },
     "execution_count": 1,
     "metadata": {},
     "output_type": "execute_result"
    }
   ],
   "source": [
    "import os\n",
    "import boto3\n",
    "from dotenv import load_dotenv\n",
    "\n",
    "load_dotenv()"
   ]
  },
  {
   "cell_type": "code",
   "execution_count": 2,
   "id": "4e19b083",
   "metadata": {},
   "outputs": [],
   "source": [
    "client_s3 = boto3.client(\n",
    "    \"s3\",\n",
    "    aws_access_key_id=os.getenv(\"AWS_ACCESS_KEY_ID\"),\n",
    "    aws_secret_access_key=os.getenv(\"AWS_SECRET_ACCESS_KEY\"),\n",
    ")\n",
    "\n",
    "bucket = os.getenv(\"AWS_S3_BUCKET_NAME\")\n",
    "\n",
    "# directory which acts as a root\n",
    "dir_evals = \"evals\"\n",
    "\n",
    "# directory prefix in S3 bucket\n",
    "prefix_s3 = \"ade-v2\""
   ]
  },
  {
   "cell_type": "code",
   "execution_count": 4,
   "id": "3bfd1781",
   "metadata": {},
   "outputs": [
    {
     "name": "stdout",
     "output_type": "stream",
     "text": [
      "No objects found.\n"
     ]
    }
   ],
   "source": [
    "# list all objects in the bucket\n",
    "response = client_s3.list_objects_v2(Bucket=bucket)\n",
    "\n",
    "if 'Contents' in response:\n",
    "    for obj in response['Contents']:\n",
    "        print(\"Found object: %s\" % obj['Key'])\n",
    "else:\n",
    "    print(\"No objects found.\")"
   ]
  },
  {
   "cell_type": "code",
   "execution_count": null,
   "id": "746538d8",
   "metadata": {},
   "outputs": [
    {
     "name": "stdout",
     "output_type": "stream",
     "text": [
      "Searching \"ade-v2/evals/testdata/ade-v2-300.json\" in \"hcp-98f1a85b-214c-414a-8a01-77d06f0c89d8\"\n",
      "Uploading ade-v2/evals/testdata/ade-v2-300.json...\n",
      "Searching \"ade-v2/evals/runs/gemini-2.5-flash.json\" in \"hcp-98f1a85b-214c-414a-8a01-77d06f0c89d8\"\n",
      "Uploading ade-v2/evals/runs/gemini-2.5-flash.json...\n",
      "Searching \"ade-v2/evals/runs/mistral-large-instruct.json\" in \"hcp-98f1a85b-214c-414a-8a01-77d06f0c89d8\"\n",
      "Uploading ade-v2/evals/runs/mistral-large-instruct.json...\n",
      "Searching \"ade-v2/evals/runs/anthropic-claude-4-sonnet.json\" in \"hcp-98f1a85b-214c-414a-8a01-77d06f0c89d8\"\n",
      "Uploading ade-v2/evals/runs/anthropic-claude-4-sonnet.json...\n",
      "Searching \"ade-v2/evals/runs/gpt-4.1.json\" in \"hcp-98f1a85b-214c-414a-8a01-77d06f0c89d8\"\n",
      "Uploading ade-v2/evals/runs/gpt-4.1.json...\n"
     ]
    }
   ],
   "source": [
    "local_directory = os.path.abspath(os.path.join(os.getcwd(), \"..\", dir_evals))\n",
    "\n",
    "# enumerate local files recursively\n",
    "for root, dirs, files in os.walk(local_directory):\n",
    "\n",
    "    for filename in files:\n",
    "        # construct the full local path and relative path\n",
    "        local_path = os.path.join(root, filename)\n",
    "        relative_path = os.path.relpath(local_path, local_directory)\n",
    "\n",
    "        # construct the S3 path\n",
    "        s3_path = os.path.join(prefix_s3, dir_evals, relative_path)\n",
    "\n",
    "        print('Searching \"%s\" in \"%s\"' % (s3_path, bucket))\n",
    "\n",
    "        try:\n",
    "            client_s3.head_object(Bucket=bucket, Key=s3_path) # throws an exception if the object does not exist\n",
    "\n",
    "            # if the object exists, delete it\n",
    "            try:\n",
    "                print(\"Path found on S3! Deleting %s...\" % s3_path)\n",
    "                client_s3.delete_object(Bucket=bucket, Key=s3_path)\n",
    "            except:\n",
    "                print(\"Unable to delete %s...\" % s3_path)\n",
    "\n",
    "        except:\n",
    "            print(\"Uploading %s...\" % s3_path)\n",
    "            client_s3.upload_file(local_path, bucket, s3_path)"
   ]
  }
 ],
 "metadata": {
  "kernelspec": {
   "display_name": ".venv",
   "language": "python",
   "name": "python3"
  },
  "language_info": {
   "codemirror_mode": {
    "name": "ipython",
    "version": 3
   },
   "file_extension": ".py",
   "mimetype": "text/x-python",
   "name": "python",
   "nbconvert_exporter": "python",
   "pygments_lexer": "ipython3",
   "version": "3.12.8"
  }
 },
 "nbformat": 4,
 "nbformat_minor": 5
}
